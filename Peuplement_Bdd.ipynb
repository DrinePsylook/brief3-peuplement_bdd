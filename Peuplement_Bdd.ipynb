{
 "cells": [
  {
   "cell_type": "markdown",
   "id": "5804aa79-b938-4dd7-942c-210fb248caa5",
   "metadata": {},
   "source": [
    "<p style='font-size:32px; text-align:center'> <strong>Peuplement de la base de données</strong></p>"
   ]
  },
  {
   "cell_type": "markdown",
   "id": "e38387e6-a4a9-4d2a-8173-189f47c97ca9",
   "metadata": {},
   "source": [
    "Chargement des imports et dépendances"
   ]
  },
  {
   "cell_type": "code",
   "execution_count": 137,
   "id": "b3f68aef-e725-444b-944c-f7ba73fc1f25",
   "metadata": {},
   "outputs": [
    {
     "name": "stdout",
     "output_type": "stream",
     "text": [
      "The sql extension is already loaded. To reload it, use:\n",
      "  %reload_ext sql\n"
     ]
    }
   ],
   "source": [
    "%load_ext sql"
   ]
  },
  {
   "cell_type": "code",
   "execution_count": 139,
   "id": "7547e487-0fc3-4e88-9d48-8653f9234f1f",
   "metadata": {},
   "outputs": [],
   "source": [
    "%sql sqlite:///data/orders.db3"
   ]
  },
  {
   "cell_type": "code",
   "execution_count": 141,
   "id": "ab9fba8f-ed42-4132-af97-fef59f94a878",
   "metadata": {},
   "outputs": [],
   "source": [
    "import sqlite3\n",
    "import csv"
   ]
  },
  {
   "cell_type": "code",
   "execution_count": 167,
   "id": "94f6d3ca-f72f-42c4-8a11-d58b08f19301",
   "metadata": {},
   "outputs": [
    {
     "name": "stdout",
     "output_type": "stream",
     "text": [
      " * sqlite:///data/orders.db3\n",
      "Done.\n",
      "Done.\n"
     ]
    },
    {
     "data": {
      "text/plain": [
       "[]"
      ]
     },
     "execution_count": 167,
     "metadata": {},
     "output_type": "execute_result"
    }
   ],
   "source": [
    "%%sql\n",
    "DROP TABLE IF EXISTS customer;\n",
    "CREATE TABLE customer(\n",
    "    id INT NOT NULL UNIQUE,\n",
    "    country VARCHAR(100) NOT NULL,\n",
    "    PRIMARY KEY (id)\n",
    ");    "
   ]
  },
  {
   "cell_type": "code",
   "execution_count": 169,
   "id": "f7fda257-7fad-4a83-83f7-c7a36b5f9a0c",
   "metadata": {},
   "outputs": [
    {
     "name": "stdout",
     "output_type": "stream",
     "text": [
      " * sqlite:///data/orders.db3\n",
      "Done.\n",
      "Done.\n"
     ]
    },
    {
     "data": {
      "text/plain": [
       "[]"
      ]
     },
     "execution_count": 169,
     "metadata": {},
     "output_type": "execute_result"
    }
   ],
   "source": [
    "%%sql\n",
    "DROP TABLE IF EXISTS customer_order;\n",
    "CREATE TABLE customer_order(\n",
    "    id INT NOT NULL UNIQUE,\n",
    "    invoice_nb INT NOT NULL,\n",
    "    invoice_date DATE NOT NULL,\n",
    "    customer_id INT NOT NULL,\n",
    "    PRIMARY KEY(id),\n",
    "    CONSTRAINT FK_customer_id FOREIGN KEY (customer_id) REFERENCES customer(id)\n",
    "    )    "
   ]
  },
  {
   "cell_type": "code",
   "execution_count": 171,
   "id": "fd8ce752-e2d3-413c-b1ce-ed9587df87e3",
   "metadata": {},
   "outputs": [
    {
     "name": "stdout",
     "output_type": "stream",
     "text": [
      " * sqlite:///data/orders.db3\n",
      "Done.\n",
      "Done.\n"
     ]
    },
    {
     "data": {
      "text/plain": [
       "[]"
      ]
     },
     "execution_count": 171,
     "metadata": {},
     "output_type": "execute_result"
    }
   ],
   "source": [
    "%%sql\n",
    "DROP TABLE IF EXISTS product;\n",
    "CREATE TABLE product(\n",
    "    id INT NOT NULL UNIQUE,\n",
    "    description VARCHAR(500) NOT NULL,\n",
    "    price FLOAT NOT NULL,\n",
    "    PRIMARY KEY(id)\n",
    ")"
   ]
  },
  {
   "cell_type": "code",
   "execution_count": 173,
   "id": "58f86591-cac0-4b35-8635-6ef273cc4ad6",
   "metadata": {},
   "outputs": [
    {
     "name": "stdout",
     "output_type": "stream",
     "text": [
      " * sqlite:///data/orders.db3\n",
      "Done.\n",
      "Done.\n"
     ]
    },
    {
     "data": {
      "text/plain": [
       "[]"
      ]
     },
     "execution_count": 173,
     "metadata": {},
     "output_type": "execute_result"
    }
   ],
   "source": [
    "%%sql\n",
    "DROP TABLE IF EXISTS order_detail;\n",
    "CREATE TABLE order_detail(\n",
    "    id INT NOT NULL UNIQUE,\n",
    "    quantity INT NOT NULL,\n",
    "    order_id INT NOT NULL,\n",
    "    product_id INT NOT NULL,\n",
    "    PRIMARY KEY(id),\n",
    "    CONSTRAINT FK_order_id FOREIGN KEY (order_id) REFERENCES customer_order(id),\n",
    "    CONSTRAINT FK_product_id FOREIGN KEY (product_id) REFERENCES product(id)\n",
    ")"
   ]
  },
  {
   "cell_type": "code",
   "execution_count": 350,
   "id": "84528af3-ccd6-459e-b045-2e98c6ed0f4f",
   "metadata": {},
   "outputs": [
    {
     "data": {
      "text/plain": [
       "\"with open('orders.csv', newline='') as orderfile : \\n    order_tab = []\\n    lire_order = csv.DictReader(orderfile, delimiter=';')\\n    for ligne in lire_order:\\n        order_tab.append(ligne) \""
      ]
     },
     "execution_count": 350,
     "metadata": {},
     "output_type": "execute_result"
    }
   ],
   "source": [
    "'''with open('orders.csv', newline='') as orderfile : \n",
    "    order_tab = []\n",
    "    lire_order = csv.DictReader(orderfile, delimiter=';')\n",
    "    for ligne in lire_order:\n",
    "        order_tab.append(ligne) '''"
   ]
  },
  {
   "cell_type": "code",
   "execution_count": 9,
   "id": "5674c464-efe0-45a9-96f5-34f3a2a0572a",
   "metadata": {},
   "outputs": [],
   "source": [
    "db_con = sqlite3.connect(\"data/orders.db3\")\n",
    "cur = db_con.cursor()"
   ]
  },
  {
   "cell_type": "code",
   "execution_count": 13,
   "id": "dda7765b-ec5d-46d4-a24b-e0e7fde09560",
   "metadata": {},
   "outputs": [],
   "source": [
    "with open('orders.csv', newline='') as orderfile : \n",
    "    order_tab = []\n",
    "    product = []\n",
    "    customer = []\n",
    "    customer_order = []\n",
    "    order_detail= []\n",
    "    lire_order = csv.reader(orderfile, delimiter=';')\n",
    "    next(lire_order)\n",
    "    \n",
    "    for ligne in lire_order:\n",
    "        order_tab.append(ligne)  \n",
    "        customer.append([ ligne[3], ligne[4] ])\n",
    "        customer_order.append([ ligne[0], ligne[1], ligne[2], ligne[3] ])\n",
    "        order_detail.append([ ligne[5], ligne[6], ligne[0], ligne[7] ])\n",
    "        product.append([ ligne[7], ligne[8], ligne[9] ])"
   ]
  },
  {
   "cell_type": "code",
   "execution_count": null,
   "id": "f6e8bd7e-c895-4fbc-9532-6470e9d2d761",
   "metadata": {},
   "outputs": [],
   "source": [
    "for prod in product:\n",
    "    sql_request = f\"INSERT INTO product(id, description, price) VALUES(?, ?, ?)\"\n",
    "    product_id = prod[0]\n",
    "    description = prod[1]\n",
    "    price = prod[2]\n",
    "\n",
    "    liste_id = []\n",
    "    if product_id not in liste_id:\n",
    "        liste_id.append(product_id)\n",
    "        \n",
    "        cur.execute(sql_request, (product_id, description, price))\n",
    "        db_con.commit()"
   ]
  },
  {
   "cell_type": "code",
   "execution_count": 41,
   "id": "432a7ea8-f99d-4d62-bbc4-87ff41b437c9",
   "metadata": {},
   "outputs": [],
   "source": [
    "for custom in customer:\n",
    "    sql_request = f\"INSERT OR IGNORE INTO customer(id, country) VALUES(?,?)\"\n",
    "    customer_id = custom[0]\n",
    "    country = custom[1]\n",
    "    cur.execute(sql_request, (customer_id, country))\n",
    "    db_con.commit()"
   ]
  },
  {
   "cell_type": "code",
   "execution_count": 43,
   "id": "6ea72ab4-f915-4940-8314-baae457f3f9d",
   "metadata": {},
   "outputs": [],
   "source": [
    "for cust_order in customer_order:\n",
    "    sql_request = f\"INSERT OR IGNORE INTO customer_order(id, invoice_nb, invoice_date, customer_id) VALUES (?, ?, ?, ?)\"\n",
    "    cust_order_id = cust_order[0]\n",
    "    nb_inv = cust_order[1]\n",
    "    date_inv = cust_order[2]\n",
    "    customer_id = cust_order[3]\n",
    "    cur.execute(sql_request, (cust_order_id, nb_inv, date_inv, customer_id))\n",
    "    db_con.commit()"
   ]
  },
  {
   "cell_type": "code",
   "execution_count": null,
   "id": "d7c7bb51-9f4c-47f9-9505-80637b1848e6",
   "metadata": {},
   "outputs": [],
   "source": [
    "for order_dt in order_detail:\n",
    "    sql_request = f\"INSERT OR IGNORE INTO order_detail(id, quantity, order_id, product_id) VALUES (?, ?, ?, ?)\"\n",
    "    cur.execute(sql_request, (order_dt[0], order_dt[1], order_dt[2], order_dt[3]))\n",
    "    db_con.commit()"
   ]
  },
  {
   "cell_type": "code",
   "execution_count": 17,
   "id": "8c3e8a1e-98d1-4f7c-ae5a-ef96e5d34f45",
   "metadata": {},
   "outputs": [
    {
     "name": "stdout",
     "output_type": "stream",
     "text": [
      "[['1', '536365', '2010/12/01', '4049', 'United Kingdom', '1', '6', '756', 'GLASS STAR FROSTED T-LIGHT HOLDER', '4.25'], ['1', '536365', '2010/12/01', '4049', 'United Kingdom', '2', '2', '1606', 'SET 7 BABUSHKA NESTING BOXES', '7.65'], ['1', '536365', '2010/12/01', '4049', 'United Kingdom', '3', '6', '2650', 'WHITE METAL LANTERN', '3.39'], ['1', '536365', '2010/12/01', '4049', 'United Kingdom', '4', '6', '2803', 'RED WOOLLY HOTTIE WHITE HEART.', '3.39'], ['1', '536365', '2010/12/01', '4049', 'United Kingdom', '5', '6', '2804', 'KNITTED UNION FLAG HOT WATER BOTTLE', '3.39'], ['1', '536365', '2010/12/01', '4049', 'United Kingdom', '6', '8', '2856', 'CREAM CUPID HEARTS COAT HANGER', '2.75'], ['1', '536365', '2010/12/01', '4049', 'United Kingdom', '7', '6', '3250', 'WHITE HANGING HEART T-LIGHT HOLDER', '2.55'], ['2', '536366', '2010/12/01', '4049', 'United Kingdom', '8', '6', '1490', 'HAND WARMER RED POLKA DOT', '1.85'], ['2', '536366', '2010/12/01', '4049', 'United Kingdom', '9', '6', '1491', 'HAND WARMER UNION JACK', '1.85'], ['3', '536367', '2010/12/01', '541', 'United Kingdom', '10', '3', '772', 'HOME BUILDING BLOCK WORD', '5.95']] \n",
      "\n"
     ]
    },
    {
     "ename": "NameError",
     "evalue": "name 'customers' is not defined",
     "output_type": "error",
     "traceback": [
      "\u001b[1;31m---------------------------------------------------------------------------\u001b[0m",
      "\u001b[1;31mNameError\u001b[0m                                 Traceback (most recent call last)",
      "Cell \u001b[1;32mIn[17], line 2\u001b[0m\n\u001b[0;32m      1\u001b[0m \u001b[38;5;28mprint\u001b[39m(order_tab[\u001b[38;5;241m0\u001b[39m:\u001b[38;5;241m10\u001b[39m], \u001b[38;5;124m\"\u001b[39m\u001b[38;5;130;01m\\n\u001b[39;00m\u001b[38;5;124m\"\u001b[39m)\n\u001b[1;32m----> 2\u001b[0m \u001b[38;5;28mprint\u001b[39m(customers[\u001b[38;5;241m0\u001b[39m:\u001b[38;5;241m10\u001b[39m], \u001b[38;5;124m\"\u001b[39m\u001b[38;5;130;01m\\n\u001b[39;00m\u001b[38;5;124m\"\u001b[39m)\n\u001b[0;32m      3\u001b[0m \u001b[38;5;28mprint\u001b[39m(customer_orders[\u001b[38;5;241m0\u001b[39m:\u001b[38;5;241m10\u001b[39m], \u001b[38;5;124m\"\u001b[39m\u001b[38;5;130;01m\\n\u001b[39;00m\u001b[38;5;124m\"\u001b[39m)\n\u001b[0;32m      4\u001b[0m \u001b[38;5;28mprint\u001b[39m(order_details[\u001b[38;5;241m0\u001b[39m:\u001b[38;5;241m10\u001b[39m], \u001b[38;5;124m\"\u001b[39m\u001b[38;5;130;01m\\n\u001b[39;00m\u001b[38;5;124m\"\u001b[39m)\n",
      "\u001b[1;31mNameError\u001b[0m: name 'customers' is not defined"
     ]
    }
   ],
   "source": [
    "print(order_tab[0:10], \"\\n\")\n",
    "print(customers[0:10], \"\\n\")\n",
    "print(customer_orders[0:10], \"\\n\")\n",
    "print(order_details[0:10], \"\\n\")\n",
    "print(products[0:10], \"\\n\")"
   ]
  },
  {
   "cell_type": "code",
   "execution_count": null,
   "id": "c9c16a84-e208-4721-a6cc-5c0859d5c838",
   "metadata": {
    "scrolled": true
   },
   "outputs": [],
   "source": [
    "db_con.close()"
   ]
  },
  {
   "cell_type": "code",
   "execution_count": 79,
   "id": "0bc0cffe-d623-4307-aab8-801d56b77e25",
   "metadata": {},
   "outputs": [
    {
     "name": "stdout",
     "output_type": "stream",
     "text": [
      "INSERT INTO customer(['id', 'country']) VALUES (?,?)\n",
      "[]\n",
      "INSERT INTO product(['id', 'description', 'price']) VALUES (?,?,?)\n",
      "[]\n",
      "INSERT INTO customer_oder(['id', 'invoice_nb', 'invoice_date', 'customer_id']) VALUES (?,?,?,?)\n",
      "INSERT INTO order_detail(['id', 'quantity', 'order_id', 'product_id']) VALUES (?,?,?,?)\n",
      "[]\n"
     ]
    }
   ],
   "source": [
    "mes_tables = {'customer' : ['id', 'country'], \n",
    "              'product' : ['id', 'description', 'price'], \n",
    "              'customer_oder' : ['id', 'invoice_nb', 'invoice_date', 'customer_id'],\n",
    "              'order_detail' : ['id', 'quantity', 'order_id', 'product_id']}\n",
    "for table in mes_tables:\n",
    "    champs = []\n",
    "    for row in mes_tables[table]:\n",
    "        champs.append(row)\n",
    "    pt = \"?,\"*(len(champs)-1)+\"?\"\n",
    "    values_ch = []\n",
    "    sql_request = f\"INSERT INTO {table}({champs}) VALUES ({pt})\"\n",
    "    print(sql_request)\n",
    "    \n",
    "    if table == 'customer':\n",
    "        for cust in customer:\n",
    "            cust.append(values_ch)\n",
    "        print(values_ch)\n",
    "    elif table == 'product':\n",
    "        for prod in product:\n",
    "            prod.append(values_ch)\n",
    "        print(values_ch)\n",
    "    elif table == 'customer_order':\n",
    "        for cust_ord in customer_order:\n",
    "            cust_ord.append(values_ch)\n",
    "        print(values_ch)\n",
    "    elif table == 'order_detail':\n",
    "        for ord_det in order_detail:\n",
    "            ord_det.append(values_ch)\n",
    "        print(values_ch)"
   ]
  },
  {
   "cell_type": "code",
   "execution_count": 175,
   "id": "9fec06d6-bf9b-448a-b84d-9deb1038ca95",
   "metadata": {},
   "outputs": [],
   "source": [
    "db_conn = sqlite3.connect(\"data/orders.db3\")\n",
    "cursor = db_conn.cursor()"
   ]
  },
  {
   "cell_type": "code",
   "execution_count": 197,
   "id": "1daad208-416e-4a1d-9a7c-267b60f5ec96",
   "metadata": {
    "scrolled": true
   },
   "outputs": [
    {
     "ename": "OperationalError",
     "evalue": "near \"(\": syntax error",
     "output_type": "error",
     "traceback": [
      "\u001b[1;31m---------------------------------------------------------------------------\u001b[0m",
      "\u001b[1;31mOperationalError\u001b[0m                          Traceback (most recent call last)",
      "Cell \u001b[1;32mIn[197], line 26\u001b[0m\n\u001b[0;32m     24\u001b[0m     champs \u001b[38;5;241m=\u001b[39m (\u001b[38;5;124m'\u001b[39m\u001b[38;5;124mid\u001b[39m\u001b[38;5;124m'\u001b[39m, \u001b[38;5;124m'\u001b[39m\u001b[38;5;124mquantity\u001b[39m\u001b[38;5;124m'\u001b[39m, \u001b[38;5;124m'\u001b[39m\u001b[38;5;124morder_id\u001b[39m\u001b[38;5;124m'\u001b[39m, \u001b[38;5;124m'\u001b[39m\u001b[38;5;124mproduct_id\u001b[39m\u001b[38;5;124m'\u001b[39m)\n\u001b[0;32m     25\u001b[0m sql_request \u001b[38;5;241m=\u001b[39m \u001b[38;5;124mf\u001b[39m\u001b[38;5;124m\"\u001b[39m\u001b[38;5;124mINSERT INTO \u001b[39m\u001b[38;5;132;01m{\u001b[39;00mtable_name\u001b[38;5;132;01m}\u001b[39;00m\u001b[38;5;124m(\u001b[39m\u001b[38;5;132;01m{\u001b[39;00mchamps\u001b[38;5;132;01m}\u001b[39;00m\u001b[38;5;124m) VALUES (\u001b[39m\u001b[38;5;132;01m{\u001b[39;00mrow\u001b[38;5;132;01m}\u001b[39;00m\u001b[38;5;124m)\u001b[39m\u001b[38;5;124m\"\u001b[39m\n\u001b[1;32m---> 26\u001b[0m cursor\u001b[38;5;241m.\u001b[39mexecute(sql_request)\n\u001b[0;32m     27\u001b[0m db_conn\u001b[38;5;241m.\u001b[39mcommit()\n",
      "\u001b[1;31mOperationalError\u001b[0m: near \"(\": syntax error"
     ]
    }
   ],
   "source": [
    "with open('orders.csv', newline='') as orderfile : \n",
    "    data = {'customer' : {}, \n",
    "              'product' : {}, \n",
    "              'customer_oder' : {},\n",
    "              'order_detail' : {}}\n",
    "    reader = csv.reader(orderfile, delimiter=';')\n",
    "    next(reader)\n",
    "    \n",
    "    for ligne in reader :\n",
    "        data['customer'][ligne[3]] = [ligne[3], ligne[4]]\n",
    "        data['product'][ligne[7]] = [ ligne[7], ligne[8], ligne[9] ]\n",
    "        data['customer_oder'][ligne[0]] = [ ligne[0], ligne[1], ligne[2], ligne[3] ]\n",
    "        data['order_detail'][ligne[5]] =[ ligne[5], ligne[6], ligne[0], ligne[7] ]\n",
    "\n",
    "    for table_name, table_data in data.items():\n",
    "        for index, row in table_data.items():\n",
    "            if table_name == 'customer':\n",
    "                champs = ('id', 'country')\n",
    "            elif table_name == 'product':\n",
    "                champs = ('id', 'description', 'price')\n",
    "            elif table_name == 'customer_order':\n",
    "                champs = ('id', 'invoice_nb', 'invoice_date', 'customer_id')\n",
    "            else:\n",
    "                champs = ('id', 'quantity', 'order_id', 'product_id')\n",
    "            sql_request = f\"INSERT INTO {table_name}({champs}) VALUES ({row})\"\n",
    "            cursor.execute(sql_request)\n",
    "            db_conn.commit()"
   ]
  },
  {
   "cell_type": "code",
   "execution_count": 165,
   "id": "574ad2be-98f1-48a0-b952-977401bbbb8f",
   "metadata": {},
   "outputs": [],
   "source": [
    "db_conn.close()"
   ]
  },
  {
   "cell_type": "code",
   "execution_count": null,
   "id": "cc0c805f-ae60-4a26-8a87-4c6c0e6def84",
   "metadata": {},
   "outputs": [],
   "source": [
    "\n"
   ]
  },
  {
   "cell_type": "code",
   "execution_count": null,
   "id": "207b7499-f34d-41d4-b057-34b112a8315b",
   "metadata": {},
   "outputs": [],
   "source": []
  }
 ],
 "metadata": {
  "kernelspec": {
   "display_name": "Python 3 (ipykernel)",
   "language": "python",
   "name": "python3"
  },
  "language_info": {
   "codemirror_mode": {
    "name": "ipython",
    "version": 3
   },
   "file_extension": ".py",
   "mimetype": "text/x-python",
   "name": "python",
   "nbconvert_exporter": "python",
   "pygments_lexer": "ipython3",
   "version": "3.12.4"
  }
 },
 "nbformat": 4,
 "nbformat_minor": 5
}
